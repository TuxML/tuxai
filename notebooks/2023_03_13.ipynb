{
 "cells": [
  {
   "cell_type": "code",
   "execution_count": 9,
   "metadata": {},
   "outputs": [],
   "source": [
    "import os\n",
    "os.chdir(\"..\")\n",
    "\n",
    "from pprint import pprint\n",
    "from tqdm.auto import tqdm\n",
    "import pandas as pd\n",
    "import numpy as np\n",
    "import seaborn as sns\n",
    "import matplotlib.pyplot as plt\n",
    "\n",
    "from tuxai.dataset import Dataset, Columns\n",
    "from tuxai.misc import config_logger, get_config\n",
    "# from tuxai.report import model_metrics, Report, FeatureImportanceReport\n",
    "\n",
    "config_logger()\n",
    "pd.options.display.max_rows = 300\n",
    "pd.options.display.max_colwidth = 100\n",
    "\n",
    "from tuxai.report import OverviewReport\n"
   ]
  },
  {
   "attachments": {},
   "cell_type": "markdown",
   "metadata": {},
   "source": [
    "# Overview report"
   ]
  },
  {
   "cell_type": "code",
   "execution_count": 10,
   "metadata": {},
   "outputs": [],
   "source": [
    "ovp = OverviewReport(fir_cache=\"fi_const_2023\")"
   ]
  },
  {
   "cell_type": "code",
   "execution_count": 11,
   "metadata": {},
   "outputs": [
    {
     "name": "stdout",
     "output_type": "stream",
     "text": [
      "{'collinear_groups': [],\n",
      " 'merged_groups': 'KASAN, KASAN_GENERIC(5.00, 5.04, 5.07), KASAN_OUTLINE',\n",
      " 'missing_in_dataset': ['5.08'],\n",
      " 'ranks': {'comp': {'all': {'4.13': 1,\n",
      "                            '4.15': 0,\n",
      "                            '4.20': 0,\n",
      "                            '5.00': 0,\n",
      "                            '5.04': 1,\n",
      "                            '5.07': 1},\n",
      "                    'max': {'value': 1, 'versions': ['4.13', '5.04', '5.07']},\n",
      "                    'min': {'value': 0, 'versions': ['4.15', '4.20', '5.00']},\n",
      "                    'outliers': {},\n",
      "                    'outliers_score': 0.0},\n",
      "           'uncomp': {'all': {'4.13': 4,\n",
      "                              '4.15': 3,\n",
      "                              '4.20': 3,\n",
      "                              '5.00': 3,\n",
      "                              '5.04': 2,\n",
      "                              '5.07': 4},\n",
      "                      'max': {'value': 4, 'versions': ['4.13', '5.07']},\n",
      "                      'min': {'value': 2, 'versions': ['5.04']},\n",
      "                      'outliers': {},\n",
      "                      'outliers_score': 0.0}},\n",
      " 'yes_freq': {'comp': {'all': {'4.13': 0.1203,\n",
      "                               '4.15': 0.4978,\n",
      "                               '4.20': 0.4859,\n",
      "                               '5.00': 0.497,\n",
      "                               '5.04': 0.5004,\n",
      "                               '5.07': 0.4927},\n",
      "                       'max': {'value': 0.5004, 'versions': ['5.04']},\n",
      "                       'min': {'value': 0.1203, 'versions': ['4.13']},\n",
      "                       'outliers': {'4.13': 0.1203},\n",
      "                       'outliers_score': 0.31205},\n",
      "              'uncomp': {'all': {'4.13': 0.1203,\n",
      "                                 '4.15': 0.4978,\n",
      "                                 '4.20': 0.4859,\n",
      "                                 '5.00': 0.497,\n",
      "                                 '5.04': 0.5004,\n",
      "                                 '5.07': 0.4927},\n",
      "                         'max': {'value': 0.5004, 'versions': ['5.04']},\n",
      "                         'min': {'value': 0.1203, 'versions': ['4.13']},\n",
      "                         'outliers': {'4.13': 0.1203},\n",
      "                         'outliers_score': 0.31205}}}\n"
     ]
    }
   ],
   "source": [
    "pprint(ovp[\"KASAN\"][\"raw\"])"
   ]
  },
  {
   "cell_type": "code",
   "execution_count": 12,
   "metadata": {},
   "outputs": [
    {
     "name": "stdout",
     "output_type": "stream",
     "text": [
      "{'merged_groups': 'Collinearity across versions: KASAN, KASAN_GENERIC(5.00, '\n",
      "                  '5.04, 5.07), KASAN_OUTLINE',\n",
      " 'missing_dataset': 'Version(s) removed from dataset: 5.08',\n",
      " 'ranks-comp': 'min: 0 (4.15, 4.20, 5.00), max: 1 (4.13, 5.04, 5.07)',\n",
      " 'ranks-uncomp': 'min: 2 (5.04), max: 4 (4.13, 5.07)',\n",
      " 'yes_freq-comp': 'Outlier found: 0.1203 (4.13). min: 0.1203 (4.13), max: '\n",
      "                  '0.5004 (5.04)',\n",
      " 'yes_freq-uncomp': 'Outlier found: 0.1203 (4.13). min: 0.1203 (4.13), max: '\n",
      "                    '0.5004 (5.04)'}\n"
     ]
    }
   ],
   "source": [
    "# removed from dataset\n",
    "pprint(ovp[\"KASAN\"][\"analysis\"])"
   ]
  },
  {
   "cell_type": "code",
   "execution_count": 13,
   "metadata": {},
   "outputs": [
    {
     "name": "stdout",
     "output_type": "stream",
     "text": [
      "{'merged_groups': 'Collinearity across versions: BITREVERSE(5.04, 5.08), '\n",
      "                  'CC_DISABLE_WARN_MAYBE_UNINITIALIZED(5.04), '\n",
      "                  'CC_OPTIMIZE_FOR_PERFORMANCE(4.15, 4.20, 5.04, 5.08), '\n",
      "                  'CC_OPTIMIZE_FOR_SIZE, CRC32(5.04), CRC32_SLICEBY8(5.04, '\n",
      "                  '5.08), HAVE_ALIGNED_STRUCT_PAGE(4.15, 5.04, 5.08), '\n",
      "                  'HAVE_HARDENED_USERCOPY_ALLOCATOR(4.15, 5.04, 5.08), '\n",
      "                  'HAVE_RELIABLE_STACKTRACE(5.04, 5.08), KERNEL_GZIP(4.15, '\n",
      "                  '5.04, 5.08), KERNEL_XZ(4.15, 5.00, 5.04, 5.07, 5.08), '\n",
      "                  'REGMAP(5.04, 5.08), SGL_ALLOC(5.04), SLOB(4.15, 5.00, 5.04, '\n",
      "                  '5.07, 5.08), SLUB(4.15, 5.04, 5.08), UNWINDER_GUESS(4.15, '\n",
      "                  '5.00, 5.04, 5.07, 5.08), UNWINDER_ORC(4.15, 5.04, 5.08)',\n",
      " 'ranks-comp': 'min: 5523 (4.13), max: 6745 (5.07)',\n",
      " 'ranks-uncomp': 'min: 5549 (4.13), max: 6861 (5.08)',\n",
      " 'yes_freq-comp': 'Outlier found: 0.1127 (4.13). min: 0.0 (5.04, 5.08), max: '\n",
      "                  '0.1127 (4.13)',\n",
      " 'yes_freq-comp-high frequency': 'High frequency: NO: 99.97% (4.15), NO: '\n",
      "                                 '97.24% (4.20), NO: 99.98% (5.00), NO: '\n",
      "                                 '100.00% (5.04), NO: 99.99% (5.07), NO: '\n",
      "                                 '100.00% (5.08)',\n",
      " 'yes_freq-uncomp': 'Outlier found: 0.1127 (4.13). min: 0.0 (5.04, 5.08), max: '\n",
      "                    '0.1127 (4.13)',\n",
      " 'yes_freq-uncomp-high frequency': 'High frequency: NO: 99.97% (4.15), NO: '\n",
      "                                   '97.24% (4.20), NO: 99.98% (5.00), NO: '\n",
      "                                   '100.00% (5.04), NO: 99.99% (5.07), NO: '\n",
      "                                   '100.00% (5.08)'}\n"
     ]
    }
   ],
   "source": [
    "# yes freq: outliers + high freq\n",
    "pprint(ovp[\"CC_OPTIMIZE_FOR_SIZE\"][\"analysis\"])"
   ]
  },
  {
   "cell_type": "code",
   "execution_count": 14,
   "metadata": {},
   "outputs": [
    {
     "name": "stdout",
     "output_type": "stream",
     "text": [
      "{'merged_groups': 'Collinearity across versions: AMD_MEM_ENCRYPT, '\n",
      "                  'ARCH_HAS_FORCE_DMA_UNENCRYPTED(5.04, 5.07, 5.08), '\n",
      "                  'ARCH_USE_MEMREMAP_PROT(4.20, 5.00), '\n",
      "                  'DMA_COHERENT_POOL(5.08), DYNAMIC_PHYSICAL_MASK',\n",
      " 'missing_version': 'Missing in versions: 4.13, 4.15',\n",
      " 'ranks-comp': 'min: 3489 (4.20), max: 3838 (5.07)',\n",
      " 'ranks-uncomp': 'min: 3708 (4.20), max: 4067 (5.07)',\n",
      " 'yes_freq-comp': 'min: 0.4519 (5.04), max: 0.4592 (4.20)',\n",
      " 'yes_freq-uncomp': 'min: 0.4519 (5.04), max: 0.4592 (4.20)'}\n"
     ]
    }
   ],
   "source": [
    "pprint(ovp[\"DYNAMIC_PHYSICAL_MASK\"][\"analysis\"])"
   ]
  },
  {
   "cell_type": "code",
   "execution_count": 15,
   "metadata": {},
   "outputs": [
    {
     "name": "stdout",
     "output_type": "stream",
     "text": [
      "{'missing_version': 'Missing in versions: 4.20, 5.00, 5.04, 5.07, 5.08',\n",
      " 'ranks-comp': 'min: 7 (4.13), max: 8 (4.15)',\n",
      " 'ranks-uncomp': 'min: 10 (4.13), max: 11 (4.15)',\n",
      " 'yes_freq-comp': 'min: 0.2495 (4.15), max: 0.2496 (4.13)',\n",
      " 'yes_freq-uncomp': 'min: 0.2495 (4.15), max: 0.2496 (4.13)'}\n"
     ]
    }
   ],
   "source": [
    "# missing in version\n",
    "pprint(ovp[\"UBSAN_NULL\"][\"analysis\"])"
   ]
  },
  {
   "cell_type": "code",
   "execution_count": 17,
   "metadata": {},
   "outputs": [
    {
     "name": "stdout",
     "output_type": "stream",
     "text": [
      "{'missing_version': 'Missing in versions: 4.13, 4.15',\n",
      " 'ranks-comp': 'Outlier found: 5070 (5.07). min: 30 (4.20), max: 5070 (5.07)',\n",
      " 'ranks-uncomp': 'min: 30 (4.20), max: 5307 (5.08)',\n",
      " 'yes_freq-comp': 'min: 0.3246 (4.20), max: 0.6601 (5.07)',\n",
      " 'yes_freq-uncomp': 'min: 0.3246 (4.20), max: 0.6601 (5.07)'}\n"
     ]
    }
   ],
   "source": [
    "# not always important (not working)\n",
    "pprint(ovp[\"DEBUG_RWSEMS\"][\"analysis\"])\n"
   ]
  },
  {
   "cell_type": "code",
   "execution_count": 18,
   "metadata": {},
   "outputs": [
    {
     "name": "stdout",
     "output_type": "stream",
     "text": [
      "{'ranks-comp': 'min: 13 (4.13), max: 4334 (5.07)',\n",
      " 'ranks-uncomp': 'min: 23 (4.15), max: 4590 (5.07)',\n",
      " 'yes_freq-comp': 'min: 0.4938 (4.20), max: 0.5039 (5.04)',\n",
      " 'yes_freq-uncomp': 'min: 0.4938 (4.20), max: 0.5039 (5.04)'}\n"
     ]
    }
   ],
   "source": [
    "# not always important (not working)\n",
    "pprint(ovp[\"GENERIC_TRACER\"][\"analysis\"])\n"
   ]
  },
  {
   "cell_type": "code",
   "execution_count": null,
   "metadata": {},
   "outputs": [],
   "source": [
    "# TODO: remove outlier\n",
    "# TODO: feature impact\n",
    "# TODO: global score"
   ]
  }
 ],
 "metadata": {
  "kernelspec": {
   "display_name": "Python 3 (ipykernel)",
   "language": "python",
   "name": "python3"
  },
  "language_info": {
   "codemirror_mode": {
    "name": "ipython",
    "version": 3
   },
   "file_extension": ".py",
   "mimetype": "text/x-python",
   "name": "python",
   "nbconvert_exporter": "python",
   "pygments_lexer": "ipython3",
   "version": "3.10.12"
  },
  "vscode": {
   "interpreter": {
    "hash": "699352d16b0d89dbd07ca07aa9fda9526046818d8a859a3a3daaaadc126dbb68"
   }
  }
 },
 "nbformat": 4,
 "nbformat_minor": 4
}
