{
 "cells": [
  {
   "cell_type": "code",
   "execution_count": 1,
   "id": "3813a7fd-fab7-42fb-9f5a-0b1502b96498",
   "metadata": {},
   "outputs": [],
   "source": [
    "import os\n",
    "os.chdir(\"..\")\n",
    "\n",
    "from pprint import pprint\n",
    "from tqdm.notebook import tqdm\n",
    "import pandas as pd\n",
    "import numpy as np\n",
    "import seaborn as sns\n",
    "import matplotlib.pyplot as plt\n",
    "import xgboost as xgb\n",
    "\n",
    "from tuxai.dataset import Dataset, Columns\n",
    "from tuxai.misc import config_logger\n",
    "from tuxai.report import model_metrics\n",
    "\n",
    "config_logger()"
   ]
  },
  {
   "cell_type": "code",
   "execution_count": null,
   "id": "67dac1f9",
   "metadata": {},
   "outputs": [],
   "source": []
  }
 ],
 "metadata": {
  "kernelspec": {
   "display_name": "Python 3.10.6 ('tuxai-KXTAvy6C-py3.10')",
   "language": "python",
   "name": "python3"
  },
  "language_info": {
   "codemirror_mode": {
    "name": "ipython",
    "version": 3
   },
   "file_extension": ".py",
   "mimetype": "text/x-python",
   "name": "python",
   "nbconvert_exporter": "python",
   "pygments_lexer": "ipython3",
   "version": "3.10.6"
  },
  "vscode": {
   "interpreter": {
    "hash": "699352d16b0d89dbd07ca07aa9fda9526046818d8a859a3a3daaaadc126dbb68"
   }
  }
 },
 "nbformat": 4,
 "nbformat_minor": 5
}
