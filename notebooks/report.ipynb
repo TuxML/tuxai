{
 "cells": [
  {
   "cell_type": "code",
   "execution_count": 1,
   "metadata": {},
   "outputs": [],
   "source": [
    "import os\n",
    "os.chdir(\"..\")\n",
    "\n",
    "from pprint import pprint\n",
    "from tuxai2.report import Report\n",
    "from tuxai.misc import config_logger\n",
    "config_logger()\n",
    "\n",
    "report = Report(\"db.json\")"
   ]
  },
  {
   "cell_type": "code",
   "execution_count": 2,
   "metadata": {},
   "outputs": [
    {
     "data": {
      "text/plain": [
       "['4.13', '4.15', '4.20', '5.00', '5.04', '5.07', '5.08']"
      ]
     },
     "execution_count": 2,
     "metadata": {},
     "output_type": "execute_result"
    }
   ],
   "source": [
    "report.versions()"
   ]
  },
  {
   "cell_type": "code",
   "execution_count": 6,
   "metadata": {},
   "outputs": [
    {
     "name": "stdout",
     "output_type": "stream",
     "text": [
      "{'AMD_MEM_ENCRYPT': [{'rank': 3, 'target': 'uncompressed', 'version': '5.08'}],\n",
      " 'ARCH_HAS_FORCE_DMA_UNENCRYPTED': [{'rank': 3,\n",
      "                                     'target': 'uncompressed',\n",
      "                                     'version': '5.08'}],\n",
      " 'DEBUG_INFO': [{'rank': 1, 'target': 'uncompressed', 'version': '4.13'},\n",
      "                {'rank': 2, 'target': 'uncompressed', 'version': '4.15'},\n",
      "                {'rank': 2, 'target': 'uncompressed', 'version': '4.20'},\n",
      "                {'rank': 2, 'target': 'uncompressed', 'version': '5.00'},\n",
      "                {'rank': 1, 'target': 'uncompressed', 'version': '5.04'},\n",
      "                {'rank': 2, 'target': 'uncompressed', 'version': '5.07'},\n",
      "                {'rank': 1, 'target': 'uncompressed', 'version': '5.08'}],\n",
      " 'DMA_COHERENT_POOL': [{'rank': 3,\n",
      "                        'target': 'uncompressed',\n",
      "                        'version': '5.08'}],\n",
      " 'DYNAMIC_PHYSICAL_MASK': [{'rank': 3,\n",
      "                            'target': 'uncompressed',\n",
      "                            'version': '5.08'}],\n",
      " 'GCOV_PROFILE_ALL': [{'rank': 3, 'target': 'compressed', 'version': '4.13'},\n",
      "                      {'rank': 2, 'target': 'compressed', 'version': '4.15'},\n",
      "                      {'rank': 3, 'target': 'compressed', 'version': '4.20'},\n",
      "                      {'rank': 3, 'target': 'compressed', 'version': '5.00'},\n",
      "                      {'rank': 3, 'target': 'compressed', 'version': '5.04'},\n",
      "                      {'rank': 2, 'target': 'compressed', 'version': '5.07'},\n",
      "                      {'rank': 1, 'target': 'compressed', 'version': '5.08'}],\n",
      " 'KASAN': [{'rank': 1, 'target': 'compressed', 'version': '4.13'},\n",
      "           {'rank': 3, 'target': 'uncompressed', 'version': '4.15'},\n",
      "           {'rank': 1, 'target': 'compressed', 'version': '4.15'},\n",
      "           {'rank': 3, 'target': 'uncompressed', 'version': '4.20'},\n",
      "           {'rank': 1, 'target': 'compressed', 'version': '4.20'},\n",
      "           {'rank': 3, 'target': 'uncompressed', 'version': '5.00'},\n",
      "           {'rank': 1, 'target': 'compressed', 'version': '5.00'},\n",
      "           {'rank': 3, 'target': 'uncompressed', 'version': '5.04'},\n",
      "           {'rank': 1, 'target': 'compressed', 'version': '5.04'},\n",
      "           {'rank': 3, 'target': 'uncompressed', 'version': '5.07'},\n",
      "           {'rank': 1, 'target': 'compressed', 'version': '5.07'}],\n",
      " 'KASAN_GENERIC': [{'rank': 3, 'target': 'uncompressed', 'version': '5.00'},\n",
      "                   {'rank': 1, 'target': 'compressed', 'version': '5.00'},\n",
      "                   {'rank': 3, 'target': 'uncompressed', 'version': '5.04'},\n",
      "                   {'rank': 1, 'target': 'compressed', 'version': '5.04'},\n",
      "                   {'rank': 3, 'target': 'uncompressed', 'version': '5.07'},\n",
      "                   {'rank': 1, 'target': 'compressed', 'version': '5.07'}],\n",
      " 'KASAN_OUTLINE': [{'rank': 1, 'target': 'compressed', 'version': '4.13'},\n",
      "                   {'rank': 3, 'target': 'uncompressed', 'version': '4.15'},\n",
      "                   {'rank': 1, 'target': 'compressed', 'version': '4.15'},\n",
      "                   {'rank': 3, 'target': 'uncompressed', 'version': '4.20'},\n",
      "                   {'rank': 1, 'target': 'compressed', 'version': '4.20'},\n",
      "                   {'rank': 3, 'target': 'uncompressed', 'version': '5.00'},\n",
      "                   {'rank': 1, 'target': 'compressed', 'version': '5.00'},\n",
      "                   {'rank': 3, 'target': 'uncompressed', 'version': '5.04'},\n",
      "                   {'rank': 1, 'target': 'compressed', 'version': '5.04'},\n",
      "                   {'rank': 3, 'target': 'uncompressed', 'version': '5.07'},\n",
      "                   {'rank': 1, 'target': 'compressed', 'version': '5.07'}],\n",
      " 'RANDOMIZE_BASE': [{'rank': 2, 'target': 'uncompressed', 'version': '4.13'},\n",
      "                    {'rank': 1, 'target': 'uncompressed', 'version': '4.15'},\n",
      "                    {'rank': 1, 'target': 'uncompressed', 'version': '4.20'},\n",
      "                    {'rank': 1, 'target': 'uncompressed', 'version': '5.00'},\n",
      "                    {'rank': 2, 'target': 'uncompressed', 'version': '5.04'},\n",
      "                    {'rank': 1, 'target': 'uncompressed', 'version': '5.07'},\n",
      "                    {'rank': 2, 'target': 'uncompressed', 'version': '5.08'}],\n",
      " 'UBSAN_ALIGNMENT': [{'rank': 3, 'target': 'compressed', 'version': '5.08'}],\n",
      " 'UBSAN_SANITIZE_ALL': [{'rank': 3,\n",
      "                         'target': 'uncompressed',\n",
      "                         'version': '4.13'},\n",
      "                        {'rank': 2, 'target': 'compressed', 'version': '4.13'},\n",
      "                        {'rank': 3, 'target': 'compressed', 'version': '4.15'},\n",
      "                        {'rank': 2, 'target': 'compressed', 'version': '4.20'},\n",
      "                        {'rank': 2, 'target': 'compressed', 'version': '5.00'},\n",
      "                        {'rank': 2, 'target': 'compressed', 'version': '5.04'},\n",
      "                        {'rank': 3, 'target': 'compressed', 'version': '5.07'},\n",
      "                        {'rank': 2, 'target': 'compressed', 'version': '5.08'}],\n",
      " 'X86_NEED_RELOCS': [{'rank': 1, 'target': 'uncompressed', 'version': '4.15'},\n",
      "                     {'rank': 1, 'target': 'uncompressed', 'version': '4.20'},\n",
      "                     {'rank': 1, 'target': 'uncompressed', 'version': '5.00'},\n",
      "                     {'rank': 2, 'target': 'uncompressed', 'version': '5.04'},\n",
      "                     {'rank': 1, 'target': 'uncompressed', 'version': '5.07'},\n",
      "                     {'rank': 2, 'target': 'uncompressed', 'version': '5.08'}]}\n"
     ]
    }
   ],
   "source": [
    "pprint(report.find(is_top=3))"
   ]
  },
  {
   "cell_type": "code",
   "execution_count": 4,
   "metadata": {},
   "outputs": [
    {
     "name": "stdout",
     "output_type": "stream",
     "text": [
      "* kconfig(s) found:\n",
      "\n",
      "\t[linux-4.13/lib/Kconfig.kasan]\n",
      "\tbool \"KASan: runtime memory debugger\"\n",
      "\t\tdepends on SLUB || (SLAB && !DEBUG_SLAB)\n",
      "\t\tselect CONSTRUCTORS\n",
      "\t\tselect STACKDEPOT\n",
      "\t\thelp\n",
      "\t\t  Enables kernel address sanitizer - runtime memory debugger,\n",
      "\t\t  designed to find out-of-bounds accesses and use-after-free bugs.\n",
      "\t\t  This is strictly a debugging feature and it requires a gcc version\n",
      "\t\t  of 4.9.2 or later. Detection of out of bounds accesses to stack or\n",
      "\t\t  global variables requires gcc 5.0 or later.\n",
      "\t\t  This feature consumes about 1/8 of available memory and brings about\n",
      "\t\t  ~x3 performance slowdown.\n",
      "\t\t  For better error detection enable CONFIG_STACKTRACE.\n",
      "\t\t  Currently CONFIG_KASAN doesn't work with CONFIG_DEBUG_SLAB\n",
      "\t\t  (the resulting kernel does not boot).\n",
      "\t\n",
      "\tchoice\n",
      "\t\tprompt \"Instrumentation type\"\n",
      "\t\tdepends on KASAN\n",
      "\t\tdefault KASAN_OUTLINE\n",
      "\n",
      "\n",
      "* found in version(s): 4.13, 4.15, 4.20, 5.00, 5.04, 5.07, 5.08\n",
      "* filtered in version(s): 5.08\n",
      "* collinearity with: KASAN_OUTLINE\n",
      "* feature size impact (uncompressed): +43.76 Mb (104.01%)\n",
      "* feature size impact (compressed): +2.93 Mb (36.76%)\n"
     ]
    }
   ],
   "source": [
    "report.show(\"KASAN\", version=4.13)"
   ]
  },
  {
   "cell_type": "code",
   "execution_count": null,
   "metadata": {},
   "outputs": [],
   "source": []
  }
 ],
 "metadata": {
  "kernelspec": {
   "display_name": "tuxai-KXTAvy6C-py3.10",
   "language": "python",
   "name": "python3"
  },
  "language_info": {
   "codemirror_mode": {
    "name": "ipython",
    "version": 3
   },
   "file_extension": ".py",
   "mimetype": "text/x-python",
   "name": "python",
   "nbconvert_exporter": "python",
   "pygments_lexer": "ipython3",
   "version": "3.10.6"
  },
  "orig_nbformat": 4
 },
 "nbformat": 4,
 "nbformat_minor": 2
}
